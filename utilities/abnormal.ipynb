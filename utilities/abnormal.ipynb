{
 "cells": [
  {
   "cell_type": "code",
   "execution_count": null,
   "id": "40293ce9",
   "metadata": {},
   "outputs": [],
   "source": [
    "# Counting number of words in all tweets\n",
    "\n",
    "import pandas as pd\n",
    "\n",
    "# Read the CSV file into a DataFrame\n",
    "df = pd.read_csv(\"../data/tweets.csv\")\n",
    "\n",
    "# Ensure 'Tweet' column is treated as string and split by whitespace\n",
    "# Then sum the lengths (number of words) in each tweet\n",
    "total_word_count = df[\"Tweet\"].apply(lambda x: len(str(x).split())).sum()\n",
    "\n",
    "print(\"Total number of words in all tweets:\", total_word_count)\n"
   ]
  },
  {
   "cell_type": "code",
   "execution_count": null,
   "id": "87a7fcf1",
   "metadata": {},
   "outputs": [],
   "source": [
    "# Choosing random articles from a CSV file\n",
    "\n",
    "import pandas as pd\n",
    "import random\n",
    "\n",
    "def save_random_articles(csv_file, output_csv, sample_size=40):\n",
    "    try:\n",
    "        df = pd.read_csv(csv_file, encoding='utf-8')\n",
    "    except UnicodeDecodeError:\n",
    "        print(\"UTF-8 decoding failed. Trying with cp1252 encoding...\")\n",
    "        df = pd.read_csv(csv_file, encoding='cp1252')\n",
    "\n",
    "    # Check if sample_size is greater than available rows\n",
    "    sample_size = min(sample_size, len(df))\n",
    "    \n",
    "    # Randomly select sample_size rows\n",
    "    sampled_df = df.sample(n=sample_size, random_state=42)  # fixed seed for reproducibility\n",
    "    \n",
    "    # Save the sampled DataFrame to a new CSV\n",
    "    sampled_df.to_csv(output_csv, index=False, encoding='utf-8')\n",
    "    \n",
    "    print(f\"Saved {sample_size} random articles to '{output_csv}'\")\n",
    "\n",
    "# usage\n",
    "sample_size=40\n",
    "csv_file = \"../data/csv/final_dis.csv\"\n",
    "output_csv = \"../data/csv/random_40_articles.csv\"\n",
    "save_random_articles(csv_file, output_csv, sample_size)\n"
   ]
  },
  {
   "cell_type": "code",
   "execution_count": 5,
   "id": "69a9126e",
   "metadata": {},
   "outputs": [
    {
     "name": "stdout",
     "output_type": "stream",
     "text": [
      "Saved 1186 tweets to '../data/csv\\tweets_1.csv'\n",
      "Saved 1186 tweets to '../data/csv\\tweets_2.csv'\n",
      "Saved 1188 tweets to '../data/csv\\tweets_3.csv'\n"
     ]
    }
   ],
   "source": [
    "# Dividing a CSV file into N equal parts\n",
    "\n",
    "import pandas as pd\n",
    "import sys\n",
    "import os\n",
    "\n",
    "def divide_csv(input_path, output_dir, num_batches):\n",
    "    # Step 1: Read the CSV file\n",
    "    df = pd.read_csv(input_path, encoding='utf-8')\n",
    "\n",
    "    # Step 2: Check that columns match expectations\n",
    "    expected_columns = ['Username', 'Tweet', 'Date', 'Replies', 'Retweets', 'Likes', 'Bookmarks', 'Views']\n",
    "    assert list(df.columns) == expected_columns, \"Column names do not match expected format\"\n",
    "\n",
    "    # Step 3: Shuffle the dataframe\n",
    "    df_shuffled = df.sample(frac=1, random_state=42).reset_index(drop=True)\n",
    "\n",
    "    # Step 4: Split into N batches\n",
    "    batch_size = len(df_shuffled) // num_batches\n",
    "    batches = []\n",
    "    for i in range(num_batches):\n",
    "        start_idx = i * batch_size\n",
    "        end_idx = (i + 1) * batch_size if i != num_batches - 1 else len(df_shuffled)\n",
    "        batch = df_shuffled.iloc[start_idx:end_idx]\n",
    "        batches.append(batch)\n",
    "\n",
    "    # Step 5: Save each batch\n",
    "    for i, batch in enumerate(batches, 1):\n",
    "        filename = os.path.join(output_dir, f\"tweets_{i}.csv\")\n",
    "        batch.to_csv(filename, index=False)\n",
    "        print(f\"Saved {len(batch)} tweets to '{filename}'\")\n",
    "\n",
    "# Example usage\n",
    "if __name__ == \"__main__\":\n",
    "    input_file = \"../data/csv/tweets.csv\"\n",
    "    output_folder = \"../data/csv\"\n",
    "    number_of_batches = 3\n",
    "\n",
    "    divide_csv(input_file, output_folder, number_of_batches)\n"
   ]
  }
 ],
 "metadata": {
  "kernelspec": {
   "display_name": "Python 3",
   "language": "python",
   "name": "python3"
  },
  "language_info": {
   "codemirror_mode": {
    "name": "ipython",
    "version": 3
   },
   "file_extension": ".py",
   "mimetype": "text/x-python",
   "name": "python",
   "nbconvert_exporter": "python",
   "pygments_lexer": "ipython3",
   "version": "3.12.4"
  }
 },
 "nbformat": 4,
 "nbformat_minor": 5
}
